{
 "cells": [
  {
   "cell_type": "markdown",
   "id": "5696f9e6-eddc-47bf-802c-e7314de63087",
   "metadata": {},
   "source": [
    "Training Pipeline: Model, Loss, and Optimizer-Predition,Gradients computation,Loss Computation,Parameter Update (all mannual)"
   ]
  },
  {
   "cell_type": "code",
   "execution_count": 11,
   "id": "079b31e3-ddf1-4042-8078-8d59928f9f79",
   "metadata": {},
   "outputs": [
    {
     "name": "stdout",
     "output_type": "stream",
     "text": [
      "Prediction before training: f(5) = 0.000\n"
     ]
    }
   ],
   "source": [
    "import numpy as np \n",
    "\n",
    "# Compute every step manually\n",
    "\n",
    "# Linear regression\n",
    "# f = w * x \n",
    "\n",
    "# here : f = 2 * x\n",
    "\n",
    "X=np.array([1,2,3,4],dtype=np.float32)\n",
    "Y=np.array([2,4,6,8],dtype=np.float32)\n",
    "\n",
    "w=0.0\n",
    "\n",
    "# model output\n",
    "def forward(x):\n",
    "    return w*x\n",
    "\n",
    "#Loss=MSE\n",
    "#j=MSE=1/N * (x*w-y)**2\n",
    "def loss(y,y_pred):\n",
    "    return ((y_pred-y)**2).mean()\n",
    "\n",
    "\n",
    "#dj/dw =1/N * (2*x*(x*w - y))\n",
    "def gradient(x,y,y_pred):\n",
    "    return np.mean(2*x*(y_pred-y))\n",
    "\n",
    "print(f'Prediction before training: f(5) = {forward(5):.3f}')\n",
    "\n",
    "  \n",
    "    "
   ]
  },
  {
   "cell_type": "code",
   "execution_count": 12,
   "id": "ae84754d-c2b2-433e-8c63-d53629576d96",
   "metadata": {},
   "outputs": [
    {
     "ename": "NameError",
     "evalue": "name 'forword' is not defined",
     "output_type": "error",
     "traceback": [
      "\u001b[1;31m---------------------------------------------------------------------------\u001b[0m",
      "\u001b[1;31mNameError\u001b[0m                                 Traceback (most recent call last)",
      "Cell \u001b[1;32mIn[12], line 7\u001b[0m\n\u001b[0;32m      3\u001b[0m n_iterate\u001b[38;5;241m=\u001b[39m\u001b[38;5;241m20\u001b[39m\n\u001b[0;32m      5\u001b[0m \u001b[38;5;28;01mfor\u001b[39;00m epoch \u001b[38;5;129;01min\u001b[39;00m \u001b[38;5;28mrange\u001b[39m(n_iterate):\n\u001b[0;32m      6\u001b[0m     \u001b[38;5;66;03m#predict =forword pass\u001b[39;00m\n\u001b[1;32m----> 7\u001b[0m     y_predict\u001b[38;5;241m=\u001b[39m\u001b[43mforword\u001b[49m(X)\n\u001b[0;32m      9\u001b[0m     \u001b[38;5;66;03m#loss\u001b[39;00m\n\u001b[0;32m     10\u001b[0m     l\u001b[38;5;241m=\u001b[39mloss(Y,y_predict)\n",
      "\u001b[1;31mNameError\u001b[0m: name 'forword' is not defined"
     ]
    }
   ],
   "source": [
    "#Training \n",
    "learning_rate=0.01\n",
    "n_iterate=20\n",
    "\n",
    "for epoch in range(n_iterate):\n",
    "    #predict =forword pass\n",
    "    y_predict=forward(X)\n",
    "    \n",
    "    #loss\n",
    "    l=loss(Y,y_predict)\n",
    "    \n",
    "    #calculate gradient\n",
    "    dw=gradient(X,Y,y_predict)\n",
    "    \n",
    "    #update the weight\n",
    "    w-=learning_rate*dw\n",
    "    print(f'epoch {epoch+1}: w = {w:.3f}, loss = {l:.8f}')\n",
    "     \n",
    "print(f'Prediction after training: f(5) = {forward(5):.3f}')"
   ]
  },
  {
   "cell_type": "code",
   "execution_count": null,
   "id": "7e56b632-8cc2-4eea-8677-78eb9c8df741",
   "metadata": {},
   "outputs": [],
   "source": []
  }
 ],
 "metadata": {
  "kernelspec": {
   "display_name": "Python 3 (ipykernel)",
   "language": "python",
   "name": "python3"
  },
  "language_info": {
   "codemirror_mode": {
    "name": "ipython",
    "version": 3
   },
   "file_extension": ".py",
   "mimetype": "text/x-python",
   "name": "python",
   "nbconvert_exporter": "python",
   "pygments_lexer": "ipython3",
   "version": "3.10.9"
  }
 },
 "nbformat": 4,
 "nbformat_minor": 5
}
